{
  "nbformat": 4,
  "nbformat_minor": 0,
  "metadata": {
    "colab": {
      "provenance": [],
      "authorship_tag": "ABX9TyM783sZmA1L9rrw7SZoYK5U",
      "include_colab_link": true
    },
    "kernelspec": {
      "name": "python3",
      "display_name": "Python 3"
    },
    "language_info": {
      "name": "python"
    }
  },
  "cells": [
    {
      "cell_type": "markdown",
      "metadata": {
        "id": "view-in-github",
        "colab_type": "text"
      },
      "source": [
        "<a href=\"https://colab.research.google.com/github/giakhangle/mayhoc/blob/main/tuan3.ipynb\" target=\"_parent\"><img src=\"https://colab.research.google.com/assets/colab-badge.svg\" alt=\"Open In Colab\"/></a>"
      ]
    },
    {
      "cell_type": "code",
      "execution_count": 1,
      "metadata": {
        "colab": {
          "base_uri": "https://localhost:8080/"
        },
        "id": "JK14-uPcYrqQ",
        "outputId": "eae153b7-5cff-439f-8678-d56b53555559"
      },
      "outputs": [
        {
          "output_type": "stream",
          "name": "stdout",
          "text": [
            "Probability of e5 : [[0.27079929 0.72920071]]\n",
            "Predicting class of e5 : Y\n"
          ]
        }
      ],
      "source": [
        "import math\n",
        "from sklearn.naive_bayes import MultinomialNB\n",
        "import numpy as np\n",
        "e1 = [2, 1, 2, 2, 2, 2] #dữ liệu đầu vào gồm 0,1,2\n",
        "e2 = [2, 2, 2, 1, 2, 2]\n",
        "e3 = [2, 2, 2, 2, 2, 2]\n",
        "e4 = [0, 0, 1, 0, 2, 1]\n",
        "train_data = np.array([e1, e2, e3, e4]) #training data\n",
        "ket_qua = np.array(['Y', 'Y', 'Y', 'N']) #gắn nhãn cho dữ liệu\n",
        "e5 = np.array([[1, 1, 2, 1, 2, 1]]) \n",
        "ml = MultinomialNB(alpha=1) #gọi hàm tính toán NB\n",
        "ml.fit(train_data, ket_qua) #testing\n",
        "print('Probability of e5 :', ml.predict_proba(e5)) #dự đoán xác xuất e5 \n",
        "print('Predicting class of e5 :', str(ml.predict(e5)[0])) #dự đoán lớp e5 mang nhãn nào"
      ]
    },
    {
      "cell_type": "code",
      "source": [
        "# calculate P(A|B) given P(A), P(B|A), P(B|not A)\n",
        "def bayes_theorem(p_a, p_b_given_a, p_b_given_not_a):\n",
        "  # calculate P(not A)\n",
        "  not_a = 1 - p_a\n",
        "  # calculate P(B)\n",
        "  p_b = p_b_given_a * p_a + p_b_given_not_a * not_a\n",
        "  # calculate P(A|B)\n",
        "  p_a_given_b = (p_b_given_a * p_a) / p_b\n",
        "  return p_a_given_b\n",
        "# P(A)\n",
        "p_a = 0.0002\n",
        "# P(B|A)\n",
        "p_b_given_a = 0.85\n",
        "# P(B|not A)\n",
        "p_b_given_not_a = 0.05\n",
        "# calculate P(A|B)\n",
        "result = bayes_theorem(p_a, p_b_given_a, p_b_given_not_a)\n",
        "# summarize\n",
        "print('P(A|B) = %.3f%%' % (result * 100))\n",
        "# P(A|B) = 0.339%"
      ],
      "metadata": {
        "colab": {
          "base_uri": "https://localhost:8080/"
        },
        "id": "hI7-SBCsacF3",
        "outputId": "84ad4424-632a-4517-85b5-9f81f9ff5c5c"
      },
      "execution_count": 3,
      "outputs": [
        {
          "output_type": "stream",
          "name": "stdout",
          "text": [
            "P(A|B) = 0.339%\n"
          ]
        }
      ]
    }
  ]
}