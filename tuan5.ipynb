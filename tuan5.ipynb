{
  "nbformat": 4,
  "nbformat_minor": 0,
  "metadata": {
    "colab": {
      "provenance": [],
      "authorship_tag": "ABX9TyMm6IrAotvWJZ50+JcjQAs8",
      "include_colab_link": true
    },
    "kernelspec": {
      "name": "python3",
      "display_name": "Python 3"
    },
    "language_info": {
      "name": "python"
    }
  },
  "cells": [
    {
      "cell_type": "markdown",
      "metadata": {
        "id": "view-in-github",
        "colab_type": "text"
      },
      "source": [
        "<a href=\"https://colab.research.google.com/github/giakhangle/mayhoc/blob/main/tuan5.ipynb\" target=\"_parent\"><img src=\"https://colab.research.google.com/assets/colab-badge.svg\" alt=\"Open In Colab\"/></a>"
      ]
    },
    {
      "cell_type": "markdown",
      "source": [
        "Thực hành 3 - Bayes"
      ],
      "metadata": {
        "id": "AzMrWMiAklii"
      }
    },
    {
      "cell_type": "code",
      "source": [
        "import math\n",
        "in_time = [(0, 22), (1, 19), (2, 17), (3, 18),\n",
        "          (4, 16), (5, 15), (6, 9), (7, 7),\n",
        "          (8, 4), (9, 3), (10, 3), (11, 2)]\n",
        "too_late = [(6, 6), (7, 9), (8, 12), (9, 17),\n",
        "            (10, 18), (11, 15), (12,16), (13, 7),\n",
        "            (14, 8), (15, 5)]\n",
        "import matplotlib.pyplot as plt\n",
        "X, Y = zip(*in_time)\n",
        "X2, Y2 = zip(*too_late)\n",
        "bar_width = 0.9\n",
        "plt.bar(X, Y, bar_width, color=\"blue\", alpha=0.75, label=\"in time\")\n",
        "bar_width = 0.8\n",
        "plt.bar(X2, Y2, bar_width, color=\"red\", alpha=0.75, label=\"too late\")\n",
        "plt.legend(loc='upper right')\n",
        "plt.show()\n",
        "in_time_dict = dict(in_time)\n",
        "too_late_dict = dict(too_late)\n",
        "def catch_the_train(min):\n",
        "  s = in_time_dict.get(min, 0)\n",
        "  if s == 0:\n",
        "    return 0\n",
        "  else:\n",
        "    m = too_late_dict.get(min, 0)\n",
        "    return s / (s + m)\n",
        "  for minutes in range(-1, 13):\n",
        "    print(minutes, catch_the_train(minutes))"
      ],
      "metadata": {
        "colab": {
          "base_uri": "https://localhost:8080/",
          "height": 430
        },
        "id": "JubnEL66cIiU",
        "outputId": "8fed7fbd-2547-4436-9a2e-93ce3f385899"
      },
      "execution_count": null,
      "outputs": [
        {
          "output_type": "display_data",
          "data": {
            "text/plain": [
              "<Figure size 640x480 with 1 Axes>"
            ],
            "image/png": "[encoded data removed]"
          },
          "metadata": {}
        }
      ]
    },
    {
      "cell_type": "markdown",
      "source": [
        "Thực hành 4 - Bayes"
      ],
      "metadata": {
        "id": "rpjs3W8Hktej"
      }
    },
    {
      "cell_type": "code",
      "source": [
        "import numpy as np\n",
        "genders = [\"male\", \"female\"]\n",
        "persons = []\n",
        "with open(\"/content/chieucao_cannang.txt\") as fh:\n",
        "  for line in fh:\n",
        "    persons.append(line.strip().split())\n",
        "firstnames = {}\n",
        "heights = {}\n",
        "for gender in genders:\n",
        "  firstnames[gender] = [ x[0] for x in persons if x[4]==gender]\n",
        "  heights[gender] = [ x[2] for x in persons if x[4]==gender]\n",
        "  heights[gender] = np.array(heights[gender], np.int)\n",
        "for gender in (\"female\", \"male\"):\n",
        "  print(gender + \":\")\n",
        "  print(firstnames[gender][:10])\n",
        "  print(heights[gender][:10])\n",
        "from collections import Counter\n",
        "import numpy as np\n",
        "import matplotlib.pyplot as plt\n",
        "class Feature:\n",
        "  def __init__(self, data, name=None, bin_width=None):\n",
        "    self.name = name\n",
        "    self.bin_width = bin_width\n",
        "    if bin_width:\n",
        "      self.min, self.max = min(data), max(data)\n",
        "      bins = np.arange((self.min // bin_width) * bin_width,\n",
        "                      (self.max // bin_width) * bin_width,bin_width)\n",
        "      freq, bins = np.histogram(data, bins)\n",
        "      self.freq_dict = dict(zip(bins, freq))\n",
        "      self.freq_sum = sum(freq)\n",
        "    else:\n",
        "      self.freq_dict = dict(Counter(data))\n",
        "      self.freq_sum = sum(self.freq_dict.values())\n",
        "  def frequency(self, value):\n",
        "    if self.bin_width:\n",
        "      value = (value // self.bin_width) * self.bin_width\n",
        "    if value in self.freq_dict:\n",
        "      return self.freq_dict[value]\n",
        "    else:\n",
        "      return 0\n",
        "fts = {}\n",
        "for gender in genders:\n",
        "  fts[gender] = Feature(heights[gender], name=gender, bin_width=5)\n",
        "  print(gender, fts[gender].freq_dict)\n",
        "for gender in genders:\n",
        "  frequencies = list(fts[gender].freq_dict.items())\n",
        "  frequencies.sort(key=lambda x: x[1])\n",
        "  X, Y = zip(*frequencies)\n",
        "  color = \"blue\" if gender==\"male\" else \"red\"\n",
        "  bar_width = 4 if gender==\"male\" else 3\n",
        "  plt.bar(X, Y, bar_width, color=color, alpha=0.75, label=gender)\n",
        "plt.legend(loc='upper right')\n",
        "plt.show()\n",
        "class NBclass:\n",
        "  def __init__(self, name, *features):\n",
        "    self.features = features\n",
        "    self.name = name\n",
        "  def probability_value_given_feature(self, feature_value, feature):\n",
        "    if feature.freq_sum == 0:\n",
        "      return 0\n",
        "    else:\n",
        "      return feature.frequency(feature_value) / feature.freq_sum\n",
        "cls = {}\n",
        "for gender in genders:\n",
        "  cls[gender] = NBclass(gender, fts[gender])\n",
        "class Classifier:\n",
        "  def __init__(self, *nbclasses):\n",
        "    self.nbclasses = nbclasses\n",
        "  def prob(self, *d, best_only=True):\n",
        "    nbclasses = self.nbclasses\n",
        "    probability_list = []\n",
        "    for nbclass in nbclasses:\n",
        "      ftrs = nbclass.features\n",
        "      prob = 1\n",
        "      for i in range(len(ftrs)):\n",
        "        prob *= nbclass.probability_value_given_feature(d[i], ftrs[i])\n",
        "      probability_list.append( (prob, nbclass.name) )\n",
        "    prob_values = [f[0] for f in probability_list]\n",
        "    prob_sum = sum(prob_values)\n",
        "    if prob_sum==0:\n",
        "      number_classes = len(self.nbclasses)\n",
        "      pl = []\n",
        "      for prob_element in probability_list:\n",
        "        pl.append( ((1 / number_classes), prob_element[1]))\n",
        "      probability_list = pl\n",
        "    else:\n",
        "      probability_list = [ (p[0] / prob_sum, p[1]) for p in probability_list]\n",
        "    if best_only:\n",
        "      return max(probability_list)\n",
        "    else:\n",
        "      return probability_list\n",
        "c = Classifier(cls[\"male\"], cls[\"female\"])\n",
        "for i in range(130, 220, 5):\n",
        "  print(i, c.prob(i, best_only=False))"
      ],
      "metadata": {
        "colab": {
          "base_uri": "https://localhost:8080/",
          "height": 953
        },
        "id": "pQdtKAOVci5j",
        "outputId": "c39eff61-f0ff-4760-af20-7dd8764d40ae"
      },
      "execution_count": 17,
      "outputs": [
        {
          "output_type": "stream",
          "name": "stdout",
          "text": [
            "female:\n",
            "['Stephanie', 'Cynthia', 'Katherine', 'Elizabeth', 'Carol', 'Christina', 'Beverly', 'Sharon', 'Denise', 'Rebecca']\n",
            "[149 174 183 138 145 161 179 162 148 196]\n",
            "male:\n",
            "['Randy', 'Jessie', 'David', 'Stephen', 'Jerry', 'Billy', 'Earl', 'Todd', 'Martin', 'Kenneth']\n",
            "[184 175 187 192 204 180 184 174 177 200]\n",
            "male {155: 1, 160: 5, 165: 4, 170: 6, 175: 7, 180: 5, 185: 8, 190: 8, 195: 2, 200: 3}\n",
            "female {130: 1, 135: 1, 140: 0, 145: 3, 150: 5, 155: 7, 160: 8, 165: 11, 170: 7, 175: 2, 180: 4, 185: 0}\n"
          ]
        },
        {
          "output_type": "stream",
          "name": "stderr",
          "text": [
            "<ipython-input-17-ec68a172b0c8>:12: DeprecationWarning: `np.int` is a deprecated alias for the builtin `int`. To silence this warning, use `int` by itself. Doing this will not modify any behavior and is safe. When replacing `np.int`, you may wish to use e.g. `np.int64` or `np.int32` to specify the precision. If you wish to review your current use, check the release note link for additional information.\n",
            "Deprecated in NumPy 1.20; for more details and guidance: https://numpy.org/devdocs/release/1.20.0-notes.html#deprecations\n",
            "  heights[gender] = np.array(heights[gender], np.int)\n"
          ]
        },
        {
          "output_type": "display_data",
          "data": {
            "text/plain": [
              "<Figure size 640x480 with 1 Axes>"
            ],
            "image/png": "[encoded data removed]"
          },
          "metadata": {}
        },
        {
          "output_type": "stream",
          "name": "stdout",
          "text": [
            "130 [(0.0, 'male'), (1.0, 'female')]\n",
            "135 [(0.0, 'male'), (1.0, 'female')]\n",
            "140 [(0.5, 'male'), (0.5, 'female')]\n",
            "145 [(0.0, 'male'), (1.0, 'female')]\n",
            "150 [(0.0, 'male'), (1.0, 'female')]\n",
            "155 [(0.125, 'male'), (0.875, 'female')]\n",
            "160 [(0.3846153846153847, 'male'), (0.6153846153846154, 'female')]\n",
            "165 [(0.26666666666666666, 'male'), (0.7333333333333333, 'female')]\n",
            "170 [(0.4615384615384616, 'male'), (0.5384615384615385, 'female')]\n",
            "175 [(0.7777777777777778, 'male'), (0.22222222222222224, 'female')]\n",
            "180 [(0.5555555555555556, 'male'), (0.4444444444444445, 'female')]\n",
            "185 [(1.0, 'male'), (0.0, 'female')]\n",
            "190 [(1.0, 'male'), (0.0, 'female')]\n",
            "195 [(1.0, 'male'), (0.0, 'female')]\n",
            "200 [(1.0, 'male'), (0.0, 'female')]\n",
            "205 [(0.5, 'male'), (0.5, 'female')]\n",
            "210 [(0.5, 'male'), (0.5, 'female')]\n",
            "215 [(0.5, 'male'), (0.5, 'female')]\n"
          ]
        }
      ]
    },
    {
      "cell_type": "markdown",
      "source": [
        "Thực hành 5 - Bayes"
      ],
      "metadata": {
        "id": "AbtTVec0kwAR"
      }
    },
    {
      "cell_type": "code",
      "source": [
        "import numpy as np\n",
        "def prepare_person_dataset(fname):\n",
        "  genders = [\"male\", \"female\"]\n",
        "  persons = []\n",
        "  with open(fname) as fh:\n",
        "    for line in fh:\n",
        "      persons.append(line.strip().split())\n",
        "  firstnames = []\n",
        "  dataset = [] # weight and height\n",
        "  for person in persons:\n",
        "    firstnames.append( (person[0], person[4]) )\n",
        "    height_weight = (float(person[2]), float(person[3]))\n",
        "    dataset.append( (height_weight, person[4]))\n",
        "  return dataset\n",
        "learnset = prepare_person_dataset(\"/content/chieucao_cannang.txt\")\n",
        "print(learnset)"
      ],
      "metadata": {
        "id": "oK10lfW1j9uB",
        "outputId": "bc78cc2f-bd20-4908-f8c4-808f8ea83bb2",
        "colab": {
          "base_uri": "https://localhost:8080/"
        }
      },
      "execution_count": 21,
      "outputs": [
        {
          "output_type": "stream",
          "name": "stdout",
          "text": [
            "[((184.0, 73.0), 'male'), ((149.0, 52.0), 'female'), ((174.0, 63.0), 'female'), ((175.0, 67.0), 'male'), ((183.0, 81.0), 'female'), ((187.0, 60.0), 'male'), ((192.0, 96.0), 'male'), ((204.0, 91.0), 'male'), ((180.0, 66.0), 'male'), ((184.0, 52.0), 'male'), ((174.0, 53.0), 'male'), ((177.0, 91.0), 'male'), ((138.0, 37.0), 'female'), ((200.0, 82.0), 'male'), ((193.0, 79.0), 'male'), ((189.0, 79.0), 'male'), ((145.0, 59.0), 'female'), ((188.0, 53.0), 'male'), ((187.0, 81.0), 'male'), ((187.0, 99.0), 'male'), ((190.0, 81.0), 'male'), ((161.0, 48.0), 'female'), ((179.0, 75.0), 'female'), ((180.0, 67.0), 'male'), ((155.0, 48.0), 'male'), ((201.0, 122.0), 'male'), ((162.0, 62.0), 'female'), ((148.0, 49.0), 'female'), ((171.0, 50.0), 'male'), ((196.0, 86.0), 'female'), ((163.0, 46.0), 'female'), ((159.0, 37.0), 'female'), ((163.0, 53.0), 'male'), ((150.0, 39.0), 'female'), ((170.0, 56.0), 'female'), ((191.0, 55.0), 'male'), ((175.0, 37.0), 'male'), ((169.0, 78.0), 'female'), ((167.0, 59.0), 'female'), ((170.0, 78.0), 'male'), ((178.0, 79.0), 'male'), ((168.0, 71.0), 'female'), ((170.0, 37.0), 'female'), ((167.0, 58.0), 'female'), ((152.0, 43.0), 'female'), ((191.0, 81.0), 'male'), ((155.0, 48.0), 'female'), ((176.0, 61.0), 'male'), ((151.0, 41.0), 'female'), ((166.0, 59.0), 'female'), ((168.0, 46.0), 'male'), ((165.0, 65.0), 'female'), ((169.0, 67.0), 'male'), ((158.0, 43.0), 'female'), ((173.0, 61.0), 'male'), ((180.0, 74.0), 'male'), ((212.0, 59.0), 'male'), ((152.0, 62.0), 'female'), ((189.0, 67.0), 'male'), ((159.0, 56.0), 'female'), ((163.0, 58.0), 'female'), ((174.0, 45.0), 'female'), ((174.0, 69.0), 'male'), ((167.0, 47.0), 'male'), ((131.0, 37.0), 'female'), ((154.0, 74.0), 'female'), ((159.0, 59.0), 'female'), ((159.0, 58.0), 'female'), ((177.0, 83.0), 'female'), ((193.0, 96.0), 'male'), ((180.0, 83.0), 'female'), ((164.0, 54.0), 'male'), ((164.0, 64.0), 'female'), ((171.0, 52.0), 'male'), ((163.0, 41.0), 'female'), ((165.0, 30.0), 'male'), ((161.0, 61.0), 'female'), ((198.0, 75.0), 'male'), ((183.0, 70.0), 'female'), ((185.0, 71.0), 'male'), ((175.0, 58.0), 'male'), ((195.0, 89.0), 'male'), ((170.0, 66.0), 'female'), ((167.0, 61.0), 'female'), ((166.0, 65.0), 'female'), ((180.0, 88.0), 'female'), ((164.0, 55.0), 'male'), ((161.0, 53.0), 'female'), ((187.0, 76.0), 'male'), ((170.0, 63.0), 'female'), ((192.0, 101.0), 'male'), ((175.0, 56.0), 'male'), ((190.0, 100.0), 'male'), ((164.0, 63.0), 'male'), ((172.0, 61.0), 'female'), ((168.0, 69.0), 'female'), ((156.0, 51.0), 'female'), ((167.0, 40.0), 'female'), ((161.0, 18.0), 'male'), ((167.0, 56.0), 'female')]\n"
          ]
        }
      ]
    },
    {
      "cell_type": "markdown",
      "source": [
        "Thực hành 1 - Dicision Tree"
      ],
      "metadata": {
        "id": "SDAI42Qgk0Yh"
      }
    },
    {
      "cell_type": "code",
      "execution_count": 18,
      "metadata": {
        "colab": {
          "base_uri": "https://localhost:8080/",
          "height": 449
        },
        "id": "B4ep52NQYCJ9",
        "outputId": "61317220-8554-4851-bb22-ca38018aaac6"
      },
      "outputs": [
        {
          "output_type": "display_data",
          "data": {
            "text/plain": [
              "<Figure size 640x480 with 1 Axes>"
            ],
            "image/png": "[encoded data removed]"
          },
          "metadata": {}
        }
      ],
      "source": [
        "import numpy as np\n",
        "import matplotlib.pyplot as plt\n",
        "fig=plt.figure()\n",
        "ax=fig.add_subplot(111)\n",
        "ax.plot(np.linspace(0.01,1),np.log2(np.linspace(0.01,1)))\n",
        "ax.set_xlabel(\"Ham P(x)\")\n",
        "ax.set_ylabel(\"log2(P(x))\")\n",
        "plt.show()"
      ]
    },
    {
      "cell_type": "markdown",
      "source": [
        "Thực hành 2 - Dicision Tree"
      ],
      "metadata": {
        "id": "-s5xtfeSlBq5"
      }
    },
    {
      "cell_type": "code",
      "source": [
        "import numpy as np\n",
        "def gini_index(groups, classes):\n",
        "  n_instances = float(sum([len(group) for group in groups]))\n",
        "  gini = 0.0\n",
        "  for group in groups:\n",
        "    size = float(len(group))\n",
        "    if size == 0:\n",
        "      continue\n",
        "    score = 0.0\n",
        "    for class_val in classes:\n",
        "      p = [row[-1] for row in group].count(class_val) / size\n",
        "      score += p * p\n",
        "    gini += (1.0 - score) * (size / n_instances)\n",
        "  return gini\n",
        "print(gini_index([[[1, 1], [1, 0]], [[1, 1], [1, 0]]], [0, 1]))\n",
        "print(gini_index([[[1, 0], [1, 0]], [[1, 1], [1, 1]]], [0, 1]))"
      ],
      "metadata": {
        "colab": {
          "base_uri": "https://localhost:8080/"
        },
        "id": "A3ggbsXUZE_L",
        "outputId": "35826734-374a-4398-b987-3ce023b5d724"
      },
      "execution_count": null,
      "outputs": [
        {
          "output_type": "stream",
          "name": "stdout",
          "text": [
            "0.5\n",
            "0.0\n"
          ]
        }
      ]
    }
  ]
}